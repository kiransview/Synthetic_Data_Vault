{
 "cells": [
  {
   "cell_type": "code",
   "execution_count": 39,
   "id": "6b03823c",
   "metadata": {},
   "outputs": [],
   "source": [
    "import pandas as pd\n",
    "import random\n",
    "import numpy as np"
   ]
  },
  {
   "cell_type": "code",
   "execution_count": 123,
   "id": "9938cd89",
   "metadata": {
    "scrolled": true
   },
   "outputs": [],
   "source": [
    "region_df = pd.read_csv('city_region_mapping.csv')\n",
    "df = pd.read_csv('SampleDataFoodSales.csv')\n",
    "unspsc_df = pd.read_csv('unspsc_data.csv')\n",
    "# unspsc_df['Price'] = pd.Series([round(random.uniform(10, 500), 2) for _ in range(len(unspsc_df))])"
   ]
  },
  {
   "cell_type": "code",
   "execution_count": 45,
   "id": "8d6435ce",
   "metadata": {},
   "outputs": [],
   "source": [
    "# Mapping the ID from Table 1 to each row in Table 2\n",
    "process_region= pd.merge(region_df.assign(key=1), df[['ID']].assign(key=1), on='key').drop('key', axis=1)\n",
    "process_region = process_region[['ID', 'State ', 'City', 'Region']]"
   ]
  },
  {
   "cell_type": "markdown",
   "id": "9e7d0def",
   "metadata": {},
   "source": [
    "### Multi Table Approach -- No Possible Answers"
   ]
  },
  {
   "cell_type": "code",
   "execution_count": null,
   "id": "9ed6a02a",
   "metadata": {},
   "outputs": [],
   "source": [
    "from sdv.metadata import MultiTableMetadata\n",
    "\n",
    "metadata = MultiTableMetadata()"
   ]
  },
  {
   "cell_type": "code",
   "execution_count": null,
   "id": "d1c41f57",
   "metadata": {},
   "outputs": [],
   "source": [
    "multi_table_data = {\n",
    "    'product_table': df,\n",
    "    'region': process_region,\n",
    "}"
   ]
  },
  {
   "cell_type": "code",
   "execution_count": 74,
   "id": "958a0593",
   "metadata": {},
   "outputs": [],
   "source": [
    "metadata.detect_table_from_dataframe(\n",
    "    table_name='product_table',\n",
    "    data=df\n",
    ")\n",
    "\n",
    "metadata.detect_table_from_dataframe(\n",
    "    table_name='region',\n",
    "    data=process_region\n",
    ")"
   ]
  },
  {
   "cell_type": "code",
   "execution_count": 75,
   "id": "14f50f17",
   "metadata": {},
   "outputs": [],
   "source": [
    "metadata.update_column(\n",
    "    table_name='product_table',\n",
    "    column_name='ID',\n",
    "    sdtype='id',\n",
    "    regex_format='ID[0-9]{5}')\n",
    "\n",
    "metadata.update_column(\n",
    "    table_name='region',\n",
    "    column_name='ID',\n",
    "    sdtype='id',\n",
    "    regex_format='ID[0-9]{5}')"
   ]
  },
  {
   "cell_type": "code",
   "execution_count": 76,
   "id": "e2043bfb",
   "metadata": {},
   "outputs": [],
   "source": [
    "metadata.set_primary_key(\n",
    "    table_name='product_table',\n",
    "    column_name='ID'\n",
    ")\n",
    "\n",
    "# metadata.set_primary_key(\n",
    "#     table_name='region',\n",
    "#     column_name='ID'\n",
    "# )"
   ]
  },
  {
   "cell_type": "code",
   "execution_count": 77,
   "id": "e7deca4b",
   "metadata": {},
   "outputs": [],
   "source": [
    "metadata.add_relationship(\n",
    "    parent_table_name='product_table',\n",
    "    child_table_name='region',\n",
    "    parent_primary_key='ID',\n",
    "    child_foreign_key='ID'\n",
    ")"
   ]
  },
  {
   "cell_type": "code",
   "execution_count": 81,
   "id": "144a0987",
   "metadata": {},
   "outputs": [],
   "source": [
    "metadata.validate()"
   ]
  },
  {
   "cell_type": "code",
   "execution_count": 122,
   "id": "f3baa5a3",
   "metadata": {},
   "outputs": [
    {
     "ename": "TypeError",
     "evalue": "sample() got an unexpected keyword argument 'num_rows'",
     "output_type": "error",
     "traceback": [
      "\u001b[1;31m---------------------------------------------------------------------------\u001b[0m",
      "\u001b[1;31mTypeError\u001b[0m                                 Traceback (most recent call last)",
      "Input \u001b[1;32mIn [122]\u001b[0m, in \u001b[0;36m<cell line: 10>\u001b[1;34m()\u001b[0m\n\u001b[0;32m      7\u001b[0m synthesizer\u001b[38;5;241m.\u001b[39mfit(multi_table_data)\n\u001b[0;32m      9\u001b[0m \u001b[38;5;66;03m# Step 3: Generate synthetic data\u001b[39;00m\n\u001b[1;32m---> 10\u001b[0m synthetic_data \u001b[38;5;241m=\u001b[39m \u001b[43msynthesizer\u001b[49m\u001b[38;5;241;43m.\u001b[39;49m\u001b[43msample\u001b[49m\u001b[43m(\u001b[49m\u001b[43mnum_rows\u001b[49m\u001b[38;5;241;43m=\u001b[39;49m\u001b[38;5;241;43m100\u001b[39;49m\u001b[43m)\u001b[49m\n",
      "\u001b[1;31mTypeError\u001b[0m: sample() got an unexpected keyword argument 'num_rows'"
     ]
    }
   ],
   "source": [
    "from sdv.multi_table import HMASynthesizer\n",
    "\n",
    "# Step 1: Create the synthesizer\n",
    "synthesizer = HMASynthesizer(metadata)\n",
    "\n",
    "# Step 2: Train the synthesizer\n",
    "synthesizer.fit(multi_table_data)\n",
    "\n",
    "# Step 3: Generate synthetic data\n",
    "synthetic_data = synthesizer.sample(num_rows=100)"
   ]
  },
  {
   "cell_type": "code",
   "execution_count": 88,
   "id": "31968915",
   "metadata": {},
   "outputs": [],
   "source": [
    "synthetic_data = synthesizer.sample()"
   ]
  },
  {
   "cell_type": "code",
   "execution_count": 92,
   "id": "ea2d99dc",
   "metadata": {},
   "outputs": [
    {
     "data": {
      "text/plain": [
       "Boston         71\n",
       "Los Angeles    71\n",
       "New York       54\n",
       "San Diego      48\n",
       "Name: City, dtype: int64"
      ]
     },
     "execution_count": 92,
     "metadata": {},
     "output_type": "execute_result"
    }
   ],
   "source": [
    "synthetic_data['product_table']['City'].value_counts()"
   ]
  },
  {
   "cell_type": "markdown",
   "id": "1fd44d97",
   "metadata": {},
   "source": [
    "### CTGAN Same Results results as Version 1"
   ]
  },
  {
   "cell_type": "code",
   "execution_count": 109,
   "id": "a6a9178d",
   "metadata": {},
   "outputs": [],
   "source": [
    "from ctgan import CTGAN"
   ]
  },
  {
   "cell_type": "code",
   "execution_count": 114,
   "id": "468ee445",
   "metadata": {},
   "outputs": [],
   "source": [
    "discrete_col = ['ID', 'Date', 'Region', 'City', 'Category', 'Product']"
   ]
  },
  {
   "cell_type": "code",
   "execution_count": 115,
   "id": "0d00b9b4",
   "metadata": {},
   "outputs": [],
   "source": [
    "ctgan = CTGAN(epochs = 10)\n",
    "ctgan.fit(df, discrete_col)\n",
    "synt_data = ctgan.sample(1000)"
   ]
  },
  {
   "cell_type": "code",
   "execution_count": 119,
   "id": "391d329e",
   "metadata": {},
   "outputs": [
    {
     "data": {
      "text/plain": [
       "Los Angeles    289\n",
       "New York       266\n",
       "Boston         260\n",
       "San Diego      185\n",
       "Name: City, dtype: int64"
      ]
     },
     "execution_count": 119,
     "metadata": {},
     "output_type": "execute_result"
    }
   ],
   "source": [
    "synt_data.City.value_counts()"
   ]
  },
  {
   "cell_type": "markdown",
   "id": "4236eaef",
   "metadata": {},
   "source": [
    "### Single Table Approach with external data append in the likes of UNSPSC & Region Mapping"
   ]
  },
  {
   "cell_type": "code",
   "execution_count": 127,
   "id": "bcdbac6b",
   "metadata": {},
   "outputs": [
    {
     "data": {
      "text/plain": [
       "Cookies     95\n",
       "Bars        94\n",
       "Snacks      29\n",
       "Crackers    26\n",
       "Name: Category, dtype: int64"
      ]
     },
     "execution_count": 127,
     "metadata": {},
     "output_type": "execute_result"
    }
   ],
   "source": [
    "df.Category.value_counts()"
   ]
  },
  {
   "cell_type": "code",
   "execution_count": 218,
   "id": "651e322b",
   "metadata": {},
   "outputs": [],
   "source": [
    "#UNSPSC Data prep and filterring\n",
    "selected_family = ['Beverages', 'Prepared and preserved foods', 'Bread and bakery products']\n",
    "\n",
    "filterd_unspsc = unspsc_df[unspsc_df['Family Name'].isin(selected_family)]\n",
    "filterd_unspsc = filterd_unspsc.rename(columns = {'Family Name': 'Category', 'Commodity Name': 'Product'})\n",
    "filterd_unspsc = filterd_unspsc[['Category', 'Product']]\n",
    "filterd_unspsc = filterd_unspsc.reset_index(drop = True)\n",
    "filterd_unspsc['ID'] = ['ID' + str(i).zfill(5) for i in range(1, len(filterd_unspsc)+1)]\n",
    "filterd_unspsc = filterd_unspsc[['ID', 'Category']]"
   ]
  },
  {
   "cell_type": "code",
   "execution_count": 219,
   "id": "c7d254fb",
   "metadata": {},
   "outputs": [],
   "source": [
    "#Region Data prep and filtering\n",
    "region_df = region_df[['Region','City']]\n",
    "region_df['ID'] = ['ID' + str(i).zfill(5) for i in range(200, 200 + len(region_df))]\n",
    "region_df = region_df[['ID','Region','City']]"
   ]
  },
  {
   "cell_type": "code",
   "execution_count": 220,
   "id": "ebe5c6d3",
   "metadata": {},
   "outputs": [
    {
     "name": "stderr",
     "output_type": "stream",
     "text": [
      "C:\\Users\\shashi.kiran\\AppData\\Local\\Temp\\ipykernel_16764\\3571460753.py:1: FutureWarning: The frame.append method is deprecated and will be removed from pandas in a future version. Use pandas.concat instead.\n",
      "  df_final = df.append(filterd_unspsc, ignore_index =True)\n",
      "C:\\Users\\shashi.kiran\\AppData\\Local\\Temp\\ipykernel_16764\\3571460753.py:2: FutureWarning: The frame.append method is deprecated and will be removed from pandas in a future version. Use pandas.concat instead.\n",
      "  df_final = df_final.append(region_df, ignore_index =True)\n"
     ]
    }
   ],
   "source": [
    "df_final = df.append(filterd_unspsc, ignore_index =True)\n",
    "df_final = df_final.append(region_df, ignore_index =True)"
   ]
  },
  {
   "cell_type": "code",
   "execution_count": 227,
   "id": "ab77968b",
   "metadata": {},
   "outputs": [
    {
     "name": "stderr",
     "output_type": "stream",
     "text": [
      "C:\\Users\\shashi.kiran\\AppData\\Local\\Temp\\ipykernel_16764\\34240211.py:2: FutureWarning: Dropping of nuisance columns in DataFrame reductions (with 'numeric_only=None') is deprecated; in a future version this will raise TypeError.  Select only valid columns before calling the reduction.\n",
      "  df_final_mean = df_final.fillna(df_final.mean()).round(0)\n"
     ]
    }
   ],
   "source": [
    "#adding some random values to the dataset as MRP Data not available\n",
    "df_final_mean = df_final.fillna(df_final.mean()).round(0)\n",
    "\n",
    "df_final_mean['Date'] = df_final_mean['Date'].fillna(df_final_mean['Date'].mode()[0])\n",
    "df_final_mean['Region'] = df_final_mean['Region'].fillna(df_final_mean['Region'].mode()[0])\n",
    "df_final_mean['City'] = df_final_mean['City'].fillna(df_final_mean['City'].mode()[0])\n",
    "df_final_mean['Category'] = df_final_mean['Category'].fillna(df_final_mean['Category'].mode()[0])\n",
    "df_final_mean['Product'] = df_final_mean['Product'].fillna(df_final_mean['Product'].mode()[0])"
   ]
  },
  {
   "cell_type": "code",
   "execution_count": 222,
   "id": "5ecf2783",
   "metadata": {},
   "outputs": [
    {
     "data": {
      "text/html": [
       "<div>\n",
       "<style scoped>\n",
       "    .dataframe tbody tr th:only-of-type {\n",
       "        vertical-align: middle;\n",
       "    }\n",
       "\n",
       "    .dataframe tbody tr th {\n",
       "        vertical-align: top;\n",
       "    }\n",
       "\n",
       "    .dataframe thead th {\n",
       "        text-align: right;\n",
       "    }\n",
       "</style>\n",
       "<table border=\"1\" class=\"dataframe\">\n",
       "  <thead>\n",
       "    <tr style=\"text-align: right;\">\n",
       "      <th></th>\n",
       "      <th>ID</th>\n",
       "      <th>Date</th>\n",
       "      <th>Region</th>\n",
       "      <th>City</th>\n",
       "      <th>Category</th>\n",
       "      <th>Product</th>\n",
       "      <th>Qty</th>\n",
       "      <th>UnitPrice</th>\n",
       "      <th>TotalPrice</th>\n",
       "    </tr>\n",
       "  </thead>\n",
       "  <tbody>\n",
       "    <tr>\n",
       "      <th>0</th>\n",
       "      <td>ID07351</td>\n",
       "      <td>1-Jan</td>\n",
       "      <td>East</td>\n",
       "      <td>Boston</td>\n",
       "      <td>Bars</td>\n",
       "      <td>Carrot</td>\n",
       "      <td>33.0</td>\n",
       "      <td>2.0</td>\n",
       "      <td>58.0</td>\n",
       "    </tr>\n",
       "    <tr>\n",
       "      <th>1</th>\n",
       "      <td>ID07352</td>\n",
       "      <td>4-Jan</td>\n",
       "      <td>East</td>\n",
       "      <td>Boston</td>\n",
       "      <td>Crackers</td>\n",
       "      <td>Whole Wheat</td>\n",
       "      <td>87.0</td>\n",
       "      <td>3.0</td>\n",
       "      <td>304.0</td>\n",
       "    </tr>\n",
       "    <tr>\n",
       "      <th>2</th>\n",
       "      <td>ID07353</td>\n",
       "      <td>7-Jan</td>\n",
       "      <td>West</td>\n",
       "      <td>Los Angeles</td>\n",
       "      <td>Cookies</td>\n",
       "      <td>Chocolate Chip</td>\n",
       "      <td>58.0</td>\n",
       "      <td>2.0</td>\n",
       "      <td>108.0</td>\n",
       "    </tr>\n",
       "    <tr>\n",
       "      <th>3</th>\n",
       "      <td>ID07354</td>\n",
       "      <td>10-Jan</td>\n",
       "      <td>East</td>\n",
       "      <td>New York</td>\n",
       "      <td>Cookies</td>\n",
       "      <td>Chocolate Chip</td>\n",
       "      <td>82.0</td>\n",
       "      <td>2.0</td>\n",
       "      <td>153.0</td>\n",
       "    </tr>\n",
       "    <tr>\n",
       "      <th>4</th>\n",
       "      <td>ID07355</td>\n",
       "      <td>13-Jan</td>\n",
       "      <td>East</td>\n",
       "      <td>Boston</td>\n",
       "      <td>Cookies</td>\n",
       "      <td>Arrowroot</td>\n",
       "      <td>38.0</td>\n",
       "      <td>2.0</td>\n",
       "      <td>83.0</td>\n",
       "    </tr>\n",
       "    <tr>\n",
       "      <th>...</th>\n",
       "      <td>...</td>\n",
       "      <td>...</td>\n",
       "      <td>...</td>\n",
       "      <td>...</td>\n",
       "      <td>...</td>\n",
       "      <td>...</td>\n",
       "      <td>...</td>\n",
       "      <td>...</td>\n",
       "      <td>...</td>\n",
       "    </tr>\n",
       "    <tr>\n",
       "      <th>735</th>\n",
       "      <td>ID00526</td>\n",
       "      <td>1-Apr</td>\n",
       "      <td>Northeast</td>\n",
       "      <td>Lynn</td>\n",
       "      <td>Beverages</td>\n",
       "      <td>Carrot</td>\n",
       "      <td>63.0</td>\n",
       "      <td>2.0</td>\n",
       "      <td>137.0</td>\n",
       "    </tr>\n",
       "    <tr>\n",
       "      <th>736</th>\n",
       "      <td>ID00527</td>\n",
       "      <td>1-Apr</td>\n",
       "      <td>Midwest</td>\n",
       "      <td>Carmel</td>\n",
       "      <td>Beverages</td>\n",
       "      <td>Carrot</td>\n",
       "      <td>63.0</td>\n",
       "      <td>2.0</td>\n",
       "      <td>137.0</td>\n",
       "    </tr>\n",
       "    <tr>\n",
       "      <th>737</th>\n",
       "      <td>ID00528</td>\n",
       "      <td>1-Apr</td>\n",
       "      <td>West</td>\n",
       "      <td>Longmont</td>\n",
       "      <td>Beverages</td>\n",
       "      <td>Carrot</td>\n",
       "      <td>63.0</td>\n",
       "      <td>2.0</td>\n",
       "      <td>137.0</td>\n",
       "    </tr>\n",
       "    <tr>\n",
       "      <th>738</th>\n",
       "      <td>ID00529</td>\n",
       "      <td>1-Apr</td>\n",
       "      <td>South</td>\n",
       "      <td>Tuscaloosa</td>\n",
       "      <td>Beverages</td>\n",
       "      <td>Carrot</td>\n",
       "      <td>63.0</td>\n",
       "      <td>2.0</td>\n",
       "      <td>137.0</td>\n",
       "    </tr>\n",
       "    <tr>\n",
       "      <th>739</th>\n",
       "      <td>ID00530</td>\n",
       "      <td>1-Apr</td>\n",
       "      <td>West</td>\n",
       "      <td>Norwalk</td>\n",
       "      <td>Beverages</td>\n",
       "      <td>Carrot</td>\n",
       "      <td>63.0</td>\n",
       "      <td>2.0</td>\n",
       "      <td>137.0</td>\n",
       "    </tr>\n",
       "  </tbody>\n",
       "</table>\n",
       "<p>740 rows × 9 columns</p>\n",
       "</div>"
      ],
      "text/plain": [
       "          ID    Date     Region         City   Category         Product   Qty  \\\n",
       "0    ID07351   1-Jan       East       Boston       Bars          Carrot  33.0   \n",
       "1    ID07352   4-Jan       East       Boston   Crackers     Whole Wheat  87.0   \n",
       "2    ID07353   7-Jan       West  Los Angeles    Cookies  Chocolate Chip  58.0   \n",
       "3    ID07354  10-Jan       East     New York    Cookies  Chocolate Chip  82.0   \n",
       "4    ID07355  13-Jan       East       Boston    Cookies       Arrowroot  38.0   \n",
       "..       ...     ...        ...          ...        ...             ...   ...   \n",
       "735  ID00526   1-Apr  Northeast         Lynn  Beverages          Carrot  63.0   \n",
       "736  ID00527   1-Apr    Midwest       Carmel  Beverages          Carrot  63.0   \n",
       "737  ID00528   1-Apr       West     Longmont  Beverages          Carrot  63.0   \n",
       "738  ID00529   1-Apr      South   Tuscaloosa  Beverages          Carrot  63.0   \n",
       "739  ID00530   1-Apr       West      Norwalk  Beverages          Carrot  63.0   \n",
       "\n",
       "     UnitPrice  TotalPrice  \n",
       "0          2.0        58.0  \n",
       "1          3.0       304.0  \n",
       "2          2.0       108.0  \n",
       "3          2.0       153.0  \n",
       "4          2.0        83.0  \n",
       "..         ...         ...  \n",
       "735        2.0       137.0  \n",
       "736        2.0       137.0  \n",
       "737        2.0       137.0  \n",
       "738        2.0       137.0  \n",
       "739        2.0       137.0  \n",
       "\n",
       "[740 rows x 9 columns]"
      ]
     },
     "execution_count": 222,
     "metadata": {},
     "output_type": "execute_result"
    }
   ],
   "source": [
    "df_final_mean"
   ]
  },
  {
   "cell_type": "code",
   "execution_count": 210,
   "id": "d37579bc",
   "metadata": {},
   "outputs": [],
   "source": [
    "# df_final.to_csv('test_append_alldata.csv')"
   ]
  },
  {
   "cell_type": "code",
   "execution_count": 223,
   "id": "9131d836",
   "metadata": {},
   "outputs": [],
   "source": [
    "from sdv.metadata import SingleTableMetadata\n",
    "metadata = SingleTableMetadata()\n",
    "metadata.detect_from_dataframe(data=df_final)\n",
    "#metadata.set_primary_key(column_name='ID')\n",
    "constraint = {\n",
    "    'constraint_class': 'FixedCombinations',\n",
    "    'constraint_parameters': {\n",
    "        'column_names': ['Category', 'Product']\n",
    "    }\n",
    "}\n",
    "\n",
    "constraint_1 = {\n",
    "    'constraint_class': 'FixedCombinations',\n",
    "    'constraint_parameters': {\n",
    "        'column_names': ['Region', 'City']\n",
    "    }\n",
    "}\n",
    "\n",
    "# metadata.update_column(\n",
    "#     column_name='ID',\n",
    "#     sdtype='id',\n",
    "#     regex_format='ID[0-9]{5}')\n",
    "\n",
    "# metadata.set_primary_key(column_name='ID')"
   ]
  },
  {
   "cell_type": "code",
   "execution_count": 224,
   "id": "105f4bb4",
   "metadata": {},
   "outputs": [
    {
     "name": "stderr",
     "output_type": "stream",
     "text": [
      "Sampling rows: 100%|████████████████████████████████████████████████████████████| 1000/1000 [00:00<00:00, 14954.71it/s]\n"
     ]
    }
   ],
   "source": [
    "from sdv.single_table import GaussianCopulaSynthesizer\n",
    "\n",
    "synthesizer = GaussianCopulaSynthesizer(metadata, default_distribution = 'uniform')\n",
    "synthesizer.add_constraints(constraints=[\n",
    "    constraint\n",
    "])\n",
    "synthesizer.add_constraints(constraints=[\n",
    "    constraint_1\n",
    "])\n",
    "synthesizer.fit(df_final_mean)\n",
    "synthetic_data = synthesizer.sample(num_rows=1000)"
   ]
  },
  {
   "cell_type": "code",
   "execution_count": 225,
   "id": "dd42dd61",
   "metadata": {},
   "outputs": [
    {
     "name": "stderr",
     "output_type": "stream",
     "text": [
      "Creating report: 100%|███████████████████████████████████████████████████████████████████| 4/4 [00:01<00:00,  2.99it/s]\n"
     ]
    },
    {
     "name": "stdout",
     "output_type": "stream",
     "text": [
      "\n",
      "Overall Quality Score: 40.82%\n",
      "\n",
      "Properties:\n",
      "Column Shapes: 64.39%\n",
      "Column Pair Trends: 17.25%\n"
     ]
    }
   ],
   "source": [
    "from sdv.evaluation.single_table import evaluate_quality\n",
    "\n",
    "quality_report = evaluate_quality(\n",
    "    real_data=df_final,\n",
    "    synthetic_data=synthetic_data,\n",
    "    metadata=metadata)"
   ]
  },
  {
   "cell_type": "code",
   "execution_count": 226,
   "id": "57e5d914",
   "metadata": {},
   "outputs": [
    {
     "data": {
      "text/html": [
       "<div>\n",
       "<style scoped>\n",
       "    .dataframe tbody tr th:only-of-type {\n",
       "        vertical-align: middle;\n",
       "    }\n",
       "\n",
       "    .dataframe tbody tr th {\n",
       "        vertical-align: top;\n",
       "    }\n",
       "\n",
       "    .dataframe thead th {\n",
       "        text-align: right;\n",
       "    }\n",
       "</style>\n",
       "<table border=\"1\" class=\"dataframe\">\n",
       "  <thead>\n",
       "    <tr style=\"text-align: right;\">\n",
       "      <th></th>\n",
       "      <th>ID</th>\n",
       "      <th>Date</th>\n",
       "      <th>Region</th>\n",
       "      <th>City</th>\n",
       "      <th>Category</th>\n",
       "      <th>Product</th>\n",
       "      <th>Qty</th>\n",
       "      <th>UnitPrice</th>\n",
       "      <th>TotalPrice</th>\n",
       "    </tr>\n",
       "  </thead>\n",
       "  <tbody>\n",
       "    <tr>\n",
       "      <th>0</th>\n",
       "      <td>ID00393</td>\n",
       "      <td>15-Jul</td>\n",
       "      <td>West</td>\n",
       "      <td>Fairfield</td>\n",
       "      <td>Prepared and preserved foods</td>\n",
       "      <td>Carrot</td>\n",
       "      <td>263.0</td>\n",
       "      <td>2.0</td>\n",
       "      <td>679.0</td>\n",
       "    </tr>\n",
       "    <tr>\n",
       "      <th>1</th>\n",
       "      <td>ID07570</td>\n",
       "      <td>22-May</td>\n",
       "      <td>South</td>\n",
       "      <td>Alexandria</td>\n",
       "      <td>Bars</td>\n",
       "      <td>Carrot</td>\n",
       "      <td>204.0</td>\n",
       "      <td>2.0</td>\n",
       "      <td>624.0</td>\n",
       "    </tr>\n",
       "    <tr>\n",
       "      <th>2</th>\n",
       "      <td>ID07553</td>\n",
       "      <td>7-Oct</td>\n",
       "      <td>South</td>\n",
       "      <td>Richmond</td>\n",
       "      <td>Snacks</td>\n",
       "      <td>Potato Chips</td>\n",
       "      <td>110.0</td>\n",
       "      <td>3.0</td>\n",
       "      <td>500.0</td>\n",
       "    </tr>\n",
       "    <tr>\n",
       "      <th>3</th>\n",
       "      <td>ID07475</td>\n",
       "      <td>13-Jan</td>\n",
       "      <td>South</td>\n",
       "      <td>Richmond</td>\n",
       "      <td>Snacks</td>\n",
       "      <td>Pretzels</td>\n",
       "      <td>285.0</td>\n",
       "      <td>3.0</td>\n",
       "      <td>753.0</td>\n",
       "    </tr>\n",
       "    <tr>\n",
       "      <th>4</th>\n",
       "      <td>ID00233</td>\n",
       "      <td>19-May</td>\n",
       "      <td>South</td>\n",
       "      <td>Fayetteville</td>\n",
       "      <td>Bars</td>\n",
       "      <td>Banana</td>\n",
       "      <td>72.0</td>\n",
       "      <td>1.0</td>\n",
       "      <td>194.0</td>\n",
       "    </tr>\n",
       "    <tr>\n",
       "      <th>...</th>\n",
       "      <td>...</td>\n",
       "      <td>...</td>\n",
       "      <td>...</td>\n",
       "      <td>...</td>\n",
       "      <td>...</td>\n",
       "      <td>...</td>\n",
       "      <td>...</td>\n",
       "      <td>...</td>\n",
       "      <td>...</td>\n",
       "    </tr>\n",
       "    <tr>\n",
       "      <th>995</th>\n",
       "      <td>ID00522</td>\n",
       "      <td>1-Jan</td>\n",
       "      <td>West</td>\n",
       "      <td>Daly City</td>\n",
       "      <td>Beverages</td>\n",
       "      <td>Carrot</td>\n",
       "      <td>280.0</td>\n",
       "      <td>1.0</td>\n",
       "      <td>691.0</td>\n",
       "    </tr>\n",
       "    <tr>\n",
       "      <th>996</th>\n",
       "      <td>ID00393</td>\n",
       "      <td>2-Aug</td>\n",
       "      <td>South</td>\n",
       "      <td>Edinburg</td>\n",
       "      <td>Cookies</td>\n",
       "      <td>Arrowroot</td>\n",
       "      <td>233.0</td>\n",
       "      <td>2.0</td>\n",
       "      <td>698.0</td>\n",
       "    </tr>\n",
       "    <tr>\n",
       "      <th>997</th>\n",
       "      <td>ID07369</td>\n",
       "      <td>13-Feb</td>\n",
       "      <td>South</td>\n",
       "      <td>Washington</td>\n",
       "      <td>Bars</td>\n",
       "      <td>Carrot</td>\n",
       "      <td>196.0</td>\n",
       "      <td>2.0</td>\n",
       "      <td>297.0</td>\n",
       "    </tr>\n",
       "    <tr>\n",
       "      <th>998</th>\n",
       "      <td>ID00473</td>\n",
       "      <td>21-Jun</td>\n",
       "      <td>West</td>\n",
       "      <td>Buckeye</td>\n",
       "      <td>Bars</td>\n",
       "      <td>Banana</td>\n",
       "      <td>164.0</td>\n",
       "      <td>2.0</td>\n",
       "      <td>244.0</td>\n",
       "    </tr>\n",
       "    <tr>\n",
       "      <th>999</th>\n",
       "      <td>ID00060</td>\n",
       "      <td>24-Dec</td>\n",
       "      <td>South</td>\n",
       "      <td>McAllen</td>\n",
       "      <td>Cookies</td>\n",
       "      <td>Chocolate Chip</td>\n",
       "      <td>96.0</td>\n",
       "      <td>2.0</td>\n",
       "      <td>292.0</td>\n",
       "    </tr>\n",
       "  </tbody>\n",
       "</table>\n",
       "<p>1000 rows × 9 columns</p>\n",
       "</div>"
      ],
      "text/plain": [
       "          ID    Date Region          City                      Category  \\\n",
       "0    ID00393  15-Jul   West     Fairfield  Prepared and preserved foods   \n",
       "1    ID07570  22-May  South    Alexandria                          Bars   \n",
       "2    ID07553   7-Oct  South      Richmond                        Snacks   \n",
       "3    ID07475  13-Jan  South      Richmond                        Snacks   \n",
       "4    ID00233  19-May  South  Fayetteville                          Bars   \n",
       "..       ...     ...    ...           ...                           ...   \n",
       "995  ID00522   1-Jan   West     Daly City                     Beverages   \n",
       "996  ID00393   2-Aug  South      Edinburg                       Cookies   \n",
       "997  ID07369  13-Feb  South    Washington                          Bars   \n",
       "998  ID00473  21-Jun   West       Buckeye                          Bars   \n",
       "999  ID00060  24-Dec  South       McAllen                       Cookies   \n",
       "\n",
       "            Product    Qty  UnitPrice  TotalPrice  \n",
       "0            Carrot  263.0        2.0       679.0  \n",
       "1            Carrot  204.0        2.0       624.0  \n",
       "2      Potato Chips  110.0        3.0       500.0  \n",
       "3          Pretzels  285.0        3.0       753.0  \n",
       "4            Banana   72.0        1.0       194.0  \n",
       "..              ...    ...        ...         ...  \n",
       "995          Carrot  280.0        1.0       691.0  \n",
       "996       Arrowroot  233.0        2.0       698.0  \n",
       "997          Carrot  196.0        2.0       297.0  \n",
       "998          Banana  164.0        2.0       244.0  \n",
       "999  Chocolate Chip   96.0        2.0       292.0  \n",
       "\n",
       "[1000 rows x 9 columns]"
      ]
     },
     "execution_count": 226,
     "metadata": {},
     "output_type": "execute_result"
    }
   ],
   "source": [
    "synthetic_data"
   ]
  },
  {
   "cell_type": "code",
   "execution_count": null,
   "id": "4335ebfb",
   "metadata": {},
   "outputs": [],
   "source": []
  }
 ],
 "metadata": {
  "kernelspec": {
   "display_name": "Python 3 (ipykernel)",
   "language": "python",
   "name": "python3"
  },
  "language_info": {
   "codemirror_mode": {
    "name": "ipython",
    "version": 3
   },
   "file_extension": ".py",
   "mimetype": "text/x-python",
   "name": "python",
   "nbconvert_exporter": "python",
   "pygments_lexer": "ipython3",
   "version": "3.9.12"
  }
 },
 "nbformat": 4,
 "nbformat_minor": 5
}
