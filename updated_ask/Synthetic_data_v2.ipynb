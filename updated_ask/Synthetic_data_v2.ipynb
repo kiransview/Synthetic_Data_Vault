{
 "cells": [
  {
   "cell_type": "code",
   "execution_count": 2,
   "id": "1bd04deb",
   "metadata": {},
   "outputs": [],
   "source": [
    "import pandas as pd\n",
    "import random\n",
    "import numpy as np\n",
    "import warnings\n",
    "\n",
    "warnings.filterwarnings(\"ignore\")"
   ]
  },
  {
   "cell_type": "code",
   "execution_count": 3,
   "id": "59571cbd",
   "metadata": {
    "scrolled": true
   },
   "outputs": [],
   "source": [
    "region_df = pd.read_csv('city_region_mapping.csv')\n",
    "df = pd.read_csv('SampleDataFoodSales.csv')\n",
    "unspsc_df = pd.read_csv('unspsc_data.csv')\n",
    "# unspsc_df['Price'] = pd.Series([round(random.uniform(10, 500), 2) for _ in range(len(unspsc_df))])"
   ]
  },
  {
   "cell_type": "code",
   "execution_count": 4,
   "id": "0f060bd0",
   "metadata": {},
   "outputs": [],
   "source": [
    "# # Mapping the ID from Table 1 to each row in Table 2\n",
    "# process_region= pd.merge(region_df.assign(key=1), df[['ID']].assign(key=1), on='key').drop('key', axis=1)\n",
    "# process_region = process_region[['ID', 'State ', 'City', 'Region']]"
   ]
  },
  {
   "cell_type": "code",
   "execution_count": 5,
   "id": "70acd7a3",
   "metadata": {},
   "outputs": [
    {
     "name": "stderr",
     "output_type": "stream",
     "text": [
      "C:\\Users\\shashi.kiran\\AppData\\Local\\Temp\\ipykernel_38844\\1520189931.py:7: FutureWarning: The frame.append method is deprecated and will be removed from pandas in a future version. Use pandas.concat instead.\n",
      "  reg = reg.append(row, ignore_index=True)\n"
     ]
    }
   ],
   "source": [
    "reg = region_df.head()\n",
    "reg= pd.merge(reg.assign(key=1), df[['ID']].assign(key=1), on='key').drop('key', axis=1)\n",
    "reg = reg.iloc[[891]]\n",
    "# reg['RID'] = 'REG_05'\n",
    "# reg = reg[['ID','RID','Region','City']]\n",
    "row = {'ID': 'ID07351', 'Region': 'East', 'City': 'Boston'}\n",
    "reg = reg.append(row, ignore_index=True)\n",
    "reg = reg.reset_index(drop = True)"
   ]
  },
  {
   "cell_type": "code",
   "execution_count": 6,
   "id": "dbe0328d",
   "metadata": {},
   "outputs": [
    {
     "data": {
      "text/html": [
       "<div>\n",
       "<style scoped>\n",
       "    .dataframe tbody tr th:only-of-type {\n",
       "        vertical-align: middle;\n",
       "    }\n",
       "\n",
       "    .dataframe tbody tr th {\n",
       "        vertical-align: top;\n",
       "    }\n",
       "\n",
       "    .dataframe thead th {\n",
       "        text-align: right;\n",
       "    }\n",
       "</style>\n",
       "<table border=\"1\" class=\"dataframe\">\n",
       "  <thead>\n",
       "    <tr style=\"text-align: right;\">\n",
       "      <th></th>\n",
       "      <th>State</th>\n",
       "      <th>City</th>\n",
       "      <th>Region</th>\n",
       "      <th>ID</th>\n",
       "    </tr>\n",
       "  </thead>\n",
       "  <tbody>\n",
       "    <tr>\n",
       "      <th>0</th>\n",
       "      <td>Texas</td>\n",
       "      <td>Houston</td>\n",
       "      <td>South</td>\n",
       "      <td>ID07510</td>\n",
       "    </tr>\n",
       "    <tr>\n",
       "      <th>1</th>\n",
       "      <td>NaN</td>\n",
       "      <td>Boston</td>\n",
       "      <td>East</td>\n",
       "      <td>ID07351</td>\n",
       "    </tr>\n",
       "  </tbody>\n",
       "</table>\n",
       "</div>"
      ],
      "text/plain": [
       "  State      City Region       ID\n",
       "0  Texas  Houston  South  ID07510\n",
       "1    NaN   Boston   East  ID07351"
      ]
     },
     "execution_count": 6,
     "metadata": {},
     "output_type": "execute_result"
    }
   ],
   "source": [
    "reg"
   ]
  },
  {
   "cell_type": "code",
   "execution_count": 7,
   "id": "c370c234",
   "metadata": {},
   "outputs": [],
   "source": [
    "df_new = df.copy()\n",
    "\n",
    "# mapping = {'Boston': 'REG_01',\n",
    "#     'New York': 'REG_02',\n",
    "#     'Los Angeles': 'REG_03',\n",
    "#     'San Diego': 'REG_04'}\n",
    "# df_new['RID'] = df_new['City'].map(mapping)"
   ]
  },
  {
   "cell_type": "code",
   "execution_count": 8,
   "id": "7770613e",
   "metadata": {},
   "outputs": [
    {
     "data": {
      "text/html": [
       "<div>\n",
       "<style scoped>\n",
       "    .dataframe tbody tr th:only-of-type {\n",
       "        vertical-align: middle;\n",
       "    }\n",
       "\n",
       "    .dataframe tbody tr th {\n",
       "        vertical-align: top;\n",
       "    }\n",
       "\n",
       "    .dataframe thead th {\n",
       "        text-align: right;\n",
       "    }\n",
       "</style>\n",
       "<table border=\"1\" class=\"dataframe\">\n",
       "  <thead>\n",
       "    <tr style=\"text-align: right;\">\n",
       "      <th></th>\n",
       "      <th>ID</th>\n",
       "      <th>Date</th>\n",
       "      <th>Region</th>\n",
       "      <th>City</th>\n",
       "      <th>Category</th>\n",
       "      <th>Product</th>\n",
       "      <th>Qty</th>\n",
       "      <th>UnitPrice</th>\n",
       "      <th>TotalPrice</th>\n",
       "    </tr>\n",
       "  </thead>\n",
       "  <tbody>\n",
       "    <tr>\n",
       "      <th>0</th>\n",
       "      <td>ID07351</td>\n",
       "      <td>1-Jan</td>\n",
       "      <td>East</td>\n",
       "      <td>Boston</td>\n",
       "      <td>Bars</td>\n",
       "      <td>Carrot</td>\n",
       "      <td>33</td>\n",
       "      <td>1.77</td>\n",
       "      <td>58.41</td>\n",
       "    </tr>\n",
       "    <tr>\n",
       "      <th>1</th>\n",
       "      <td>ID07352</td>\n",
       "      <td>4-Jan</td>\n",
       "      <td>East</td>\n",
       "      <td>Boston</td>\n",
       "      <td>Crackers</td>\n",
       "      <td>Whole Wheat</td>\n",
       "      <td>87</td>\n",
       "      <td>3.49</td>\n",
       "      <td>303.63</td>\n",
       "    </tr>\n",
       "    <tr>\n",
       "      <th>2</th>\n",
       "      <td>ID07353</td>\n",
       "      <td>7-Jan</td>\n",
       "      <td>West</td>\n",
       "      <td>Los Angeles</td>\n",
       "      <td>Cookies</td>\n",
       "      <td>Chocolate Chip</td>\n",
       "      <td>58</td>\n",
       "      <td>1.87</td>\n",
       "      <td>108.46</td>\n",
       "    </tr>\n",
       "    <tr>\n",
       "      <th>3</th>\n",
       "      <td>ID07354</td>\n",
       "      <td>10-Jan</td>\n",
       "      <td>East</td>\n",
       "      <td>New York</td>\n",
       "      <td>Cookies</td>\n",
       "      <td>Chocolate Chip</td>\n",
       "      <td>82</td>\n",
       "      <td>1.87</td>\n",
       "      <td>153.34</td>\n",
       "    </tr>\n",
       "    <tr>\n",
       "      <th>4</th>\n",
       "      <td>ID07355</td>\n",
       "      <td>13-Jan</td>\n",
       "      <td>East</td>\n",
       "      <td>Boston</td>\n",
       "      <td>Cookies</td>\n",
       "      <td>Arrowroot</td>\n",
       "      <td>38</td>\n",
       "      <td>2.18</td>\n",
       "      <td>82.84</td>\n",
       "    </tr>\n",
       "    <tr>\n",
       "      <th>...</th>\n",
       "      <td>...</td>\n",
       "      <td>...</td>\n",
       "      <td>...</td>\n",
       "      <td>...</td>\n",
       "      <td>...</td>\n",
       "      <td>...</td>\n",
       "      <td>...</td>\n",
       "      <td>...</td>\n",
       "      <td>...</td>\n",
       "    </tr>\n",
       "    <tr>\n",
       "      <th>239</th>\n",
       "      <td>ID07590</td>\n",
       "      <td>18-Dec</td>\n",
       "      <td>East</td>\n",
       "      <td>Boston</td>\n",
       "      <td>Cookies</td>\n",
       "      <td>Arrowroot</td>\n",
       "      <td>34</td>\n",
       "      <td>2.18</td>\n",
       "      <td>74.12</td>\n",
       "    </tr>\n",
       "    <tr>\n",
       "      <th>240</th>\n",
       "      <td>ID07591</td>\n",
       "      <td>21-Dec</td>\n",
       "      <td>East</td>\n",
       "      <td>Boston</td>\n",
       "      <td>Cookies</td>\n",
       "      <td>Chocolate Chip</td>\n",
       "      <td>245</td>\n",
       "      <td>1.87</td>\n",
       "      <td>458.15</td>\n",
       "    </tr>\n",
       "    <tr>\n",
       "      <th>241</th>\n",
       "      <td>ID07592</td>\n",
       "      <td>24-Dec</td>\n",
       "      <td>East</td>\n",
       "      <td>Boston</td>\n",
       "      <td>Crackers</td>\n",
       "      <td>Whole Wheat</td>\n",
       "      <td>30</td>\n",
       "      <td>3.49</td>\n",
       "      <td>104.70</td>\n",
       "    </tr>\n",
       "    <tr>\n",
       "      <th>242</th>\n",
       "      <td>ID07593</td>\n",
       "      <td>27-Dec</td>\n",
       "      <td>West</td>\n",
       "      <td>Los Angeles</td>\n",
       "      <td>Bars</td>\n",
       "      <td>Bran</td>\n",
       "      <td>30</td>\n",
       "      <td>1.87</td>\n",
       "      <td>56.10</td>\n",
       "    </tr>\n",
       "    <tr>\n",
       "      <th>243</th>\n",
       "      <td>ID07594</td>\n",
       "      <td>30-Dec</td>\n",
       "      <td>West</td>\n",
       "      <td>Los Angeles</td>\n",
       "      <td>Cookies</td>\n",
       "      <td>Oatmeal Raisin</td>\n",
       "      <td>44</td>\n",
       "      <td>2.84</td>\n",
       "      <td>124.96</td>\n",
       "    </tr>\n",
       "  </tbody>\n",
       "</table>\n",
       "<p>244 rows × 9 columns</p>\n",
       "</div>"
      ],
      "text/plain": [
       "          ID    Date Region         City  Category         Product  Qty  \\\n",
       "0    ID07351   1-Jan   East       Boston      Bars          Carrot   33   \n",
       "1    ID07352   4-Jan   East       Boston  Crackers     Whole Wheat   87   \n",
       "2    ID07353   7-Jan   West  Los Angeles   Cookies  Chocolate Chip   58   \n",
       "3    ID07354  10-Jan   East     New York   Cookies  Chocolate Chip   82   \n",
       "4    ID07355  13-Jan   East       Boston   Cookies       Arrowroot   38   \n",
       "..       ...     ...    ...          ...       ...             ...  ...   \n",
       "239  ID07590  18-Dec   East       Boston   Cookies       Arrowroot   34   \n",
       "240  ID07591  21-Dec   East       Boston   Cookies  Chocolate Chip  245   \n",
       "241  ID07592  24-Dec   East       Boston  Crackers     Whole Wheat   30   \n",
       "242  ID07593  27-Dec   West  Los Angeles      Bars            Bran   30   \n",
       "243  ID07594  30-Dec   West  Los Angeles   Cookies  Oatmeal Raisin   44   \n",
       "\n",
       "     UnitPrice  TotalPrice  \n",
       "0         1.77       58.41  \n",
       "1         3.49      303.63  \n",
       "2         1.87      108.46  \n",
       "3         1.87      153.34  \n",
       "4         2.18       82.84  \n",
       "..         ...         ...  \n",
       "239       2.18       74.12  \n",
       "240       1.87      458.15  \n",
       "241       3.49      104.70  \n",
       "242       1.87       56.10  \n",
       "243       2.84      124.96  \n",
       "\n",
       "[244 rows x 9 columns]"
      ]
     },
     "execution_count": 8,
     "metadata": {},
     "output_type": "execute_result"
    }
   ],
   "source": [
    "df_new"
   ]
  },
  {
   "cell_type": "markdown",
   "id": "dccfb59c",
   "metadata": {},
   "source": [
    "### Multi Table Approach -- WIP"
   ]
  },
  {
   "cell_type": "code",
   "execution_count": 46,
   "id": "7739126e",
   "metadata": {},
   "outputs": [],
   "source": [
    "from sdv.metadata import MultiTableMetadata\n",
    "\n",
    "metadata = MultiTableMetadata()"
   ]
  },
  {
   "cell_type": "code",
   "execution_count": 47,
   "id": "eb758244",
   "metadata": {},
   "outputs": [],
   "source": [
    "multi_table_data = {\n",
    "    'product_table': df_new,\n",
    "    'region': reg,\n",
    "}"
   ]
  },
  {
   "cell_type": "code",
   "execution_count": 48,
   "id": "d7dc355d",
   "metadata": {},
   "outputs": [],
   "source": [
    "metadata.detect_table_from_dataframe(\n",
    "    table_name='product_table',\n",
    "    data=df_new\n",
    ")\n",
    "\n",
    "metadata.detect_table_from_dataframe(\n",
    "    table_name='region',\n",
    "    data=reg\n",
    ")"
   ]
  },
  {
   "cell_type": "code",
   "execution_count": 49,
   "id": "06c91b18",
   "metadata": {},
   "outputs": [],
   "source": [
    "metadata.update_column(\n",
    "    table_name='product_table',\n",
    "    column_name='ID',\n",
    "    sdtype='id',\n",
    "    regex_format='ID[0-9]{5}')\n",
    "\n",
    "metadata.update_column(\n",
    "    table_name='region',\n",
    "    column_name='ID',\n",
    "    sdtype='id',\n",
    "    regex_format='ID[0-9]{5}')\n",
    "\n",
    "metadata.update_column(\n",
    "    table_name='region',\n",
    "    column_name='City',\n",
    "    sdtype='city',\n",
    "    pii=True\n",
    ")\n",
    "\n",
    "# metadata.update_column(\n",
    "#     table_name='product_table',\n",
    "#     column_name='RID',\n",
    "#     sdtype='id',\n",
    "#     regex_format='RID_[0-9]{2}')\n",
    "\n",
    "# metadata.update_column(\n",
    "#     table_name='region',\n",
    "#     column_name='RID',\n",
    "#     sdtype='id',\n",
    "#     regex_format='RID_[0-9]{2}')"
   ]
  },
  {
   "cell_type": "code",
   "execution_count": 50,
   "id": "f15048aa",
   "metadata": {},
   "outputs": [],
   "source": [
    "metadata.set_primary_key(\n",
    "    table_name='product_table',\n",
    "    column_name='ID'\n",
    ")\n",
    "\n",
    "# metadata.set_primary_key(\n",
    "#     table_name='region',\n",
    "#     column_name='City'\n",
    "# )\n",
    "\n",
    "# # metadata.add_alternate_keys(\n",
    "# #     table_name='product_table',\n",
    "# #     column_names=['RID']\n",
    "# # )\n",
    "\n",
    "# metadata.add_alternate_keys(\n",
    "#     table_name='region',\n",
    "#     column_names=['ID']\n",
    "# )"
   ]
  },
  {
   "cell_type": "code",
   "execution_count": 51,
   "id": "552d9489",
   "metadata": {},
   "outputs": [],
   "source": [
    "metadata.add_relationship(\n",
    "    parent_table_name='product_table',\n",
    "    child_table_name='region',\n",
    "    parent_primary_key='ID',\n",
    "    child_foreign_key='ID'\n",
    ")"
   ]
  },
  {
   "cell_type": "code",
   "execution_count": 52,
   "id": "d18ecd77",
   "metadata": {},
   "outputs": [],
   "source": [
    "metadata.validate()"
   ]
  },
  {
   "cell_type": "code",
   "execution_count": 53,
   "id": "798a98e1",
   "metadata": {},
   "outputs": [
    {
     "data": {
      "text/plain": [
       "{\n",
       "    \"tables\": {\n",
       "        \"product_table\": {\n",
       "            \"columns\": {\n",
       "                \"ID\": {\n",
       "                    \"sdtype\": \"id\",\n",
       "                    \"regex_format\": \"ID[0-9]{5}\"\n",
       "                },\n",
       "                \"Date\": {\n",
       "                    \"sdtype\": \"categorical\"\n",
       "                },\n",
       "                \"Region\": {\n",
       "                    \"sdtype\": \"categorical\"\n",
       "                },\n",
       "                \"City\": {\n",
       "                    \"sdtype\": \"categorical\"\n",
       "                },\n",
       "                \"Category\": {\n",
       "                    \"sdtype\": \"categorical\"\n",
       "                },\n",
       "                \"Product\": {\n",
       "                    \"sdtype\": \"categorical\"\n",
       "                },\n",
       "                \"Qty\": {\n",
       "                    \"sdtype\": \"numerical\"\n",
       "                },\n",
       "                \"UnitPrice\": {\n",
       "                    \"sdtype\": \"numerical\"\n",
       "                },\n",
       "                \"TotalPrice\": {\n",
       "                    \"sdtype\": \"numerical\"\n",
       "                }\n",
       "            },\n",
       "            \"primary_key\": \"ID\"\n",
       "        },\n",
       "        \"region\": {\n",
       "            \"columns\": {\n",
       "                \"State \": {\n",
       "                    \"sdtype\": \"categorical\"\n",
       "                },\n",
       "                \"City\": {\n",
       "                    \"sdtype\": \"city\",\n",
       "                    \"pii\": true\n",
       "                },\n",
       "                \"Region\": {\n",
       "                    \"sdtype\": \"categorical\"\n",
       "                },\n",
       "                \"ID\": {\n",
       "                    \"sdtype\": \"id\",\n",
       "                    \"regex_format\": \"ID[0-9]{5}\"\n",
       "                }\n",
       "            }\n",
       "        }\n",
       "    },\n",
       "    \"relationships\": [\n",
       "        {\n",
       "            \"parent_table_name\": \"product_table\",\n",
       "            \"child_table_name\": \"region\",\n",
       "            \"parent_primary_key\": \"ID\",\n",
       "            \"child_foreign_key\": \"ID\"\n",
       "        }\n",
       "    ],\n",
       "    \"METADATA_SPEC_VERSION\": \"MULTI_TABLE_V1\"\n",
       "}"
      ]
     },
     "execution_count": 53,
     "metadata": {},
     "output_type": "execute_result"
    }
   ],
   "source": [
    "metadata"
   ]
  },
  {
   "cell_type": "code",
   "execution_count": 54,
   "id": "4a79a52b",
   "metadata": {},
   "outputs": [],
   "source": [
    "# synthesizer.update_transformers(\n",
    "#     table_name='product_table',\n",
    "#     column_name_to_transformer={'ID' :RegexGenerator(regex_format='ID[0-9]{5}', enforce_uniqueness=True)}\n",
    "#         )\n",
    "\n",
    "# synthesizer.update_transformers(\n",
    "#     table_name='product_table',\n",
    "#     column_name_to_transformer={'RID' :RegexGenerator(regex_format='RID_[0-9]{2}', enforce_uniqueness=True)}\n",
    "#         )\n",
    "\n",
    "# synthesizer.update_transformers(\n",
    "#     table_name='region',\n",
    "#     column_name_to_transformer={'ID' :RegexGenerator(regex_format='ID[0-9]{5}', enforce_uniqueness=True)}\n",
    "#         )\n",
    "\n",
    "# synthesizer.update_transformers(\n",
    "#     table_name='region',\n",
    "#     column_name_to_transformer={'RID' :RegexGenerator(regex_format='RID_[0-9]{2}', enforce_uniqueness=True)}\n",
    "#         )"
   ]
  },
  {
   "cell_type": "code",
   "execution_count": 55,
   "id": "ce60e337",
   "metadata": {},
   "outputs": [],
   "source": [
    "from sdv.multi_table import HMASynthesizer\n",
    "\n",
    "# Step 1: Create the synthesizer\n",
    "synthesizer = HMASynthesizer(metadata)\n",
    "\n",
    "# Step 2: Train the synthesizer\n",
    "synthesizer.fit(multi_table_data)\n",
    "\n",
    "# Step 3: Generate synthetic data\n",
    "synthetic_data = synthesizer.sample()"
   ]
  },
  {
   "cell_type": "code",
   "execution_count": 56,
   "id": "9227d7c8",
   "metadata": {},
   "outputs": [
    {
     "data": {
      "text/plain": [
       "Boston         79\n",
       "New York       61\n",
       "Los Angeles    53\n",
       "San Diego      51\n",
       "Name: City, dtype: int64"
      ]
     },
     "execution_count": 56,
     "metadata": {},
     "output_type": "execute_result"
    }
   ],
   "source": [
    "synthetic_data['product_table']['City'].value_counts()"
   ]
  },
  {
   "cell_type": "markdown",
   "id": "800899b1",
   "metadata": {},
   "source": [
    "### CTGAN Same Results results as Version 1"
   ]
  },
  {
   "cell_type": "code",
   "execution_count": null,
   "id": "995c78a7",
   "metadata": {},
   "outputs": [],
   "source": [
    "from ctgan import CTGAN"
   ]
  },
  {
   "cell_type": "code",
   "execution_count": null,
   "id": "89290765",
   "metadata": {},
   "outputs": [],
   "source": [
    "discrete_col = ['ID', 'Date', 'Region', 'City', 'Category', 'Product']"
   ]
  },
  {
   "cell_type": "code",
   "execution_count": null,
   "id": "e492518a",
   "metadata": {},
   "outputs": [],
   "source": [
    "ctgan = CTGAN(epochs = 10)\n",
    "ctgan.fit(df, discrete_col)\n",
    "synt_data = ctgan.sample(1000)"
   ]
  },
  {
   "cell_type": "code",
   "execution_count": null,
   "id": "cfa9362b",
   "metadata": {},
   "outputs": [],
   "source": [
    "synt_data.City.value_counts()"
   ]
  },
  {
   "cell_type": "markdown",
   "id": "207ae517",
   "metadata": {},
   "source": [
    "### Single Table Approach with external data append in the likes of UNSPSC & Region Mapping"
   ]
  },
  {
   "cell_type": "code",
   "execution_count": 57,
   "id": "2ff4da86",
   "metadata": {},
   "outputs": [
    {
     "data": {
      "text/plain": [
       "Cookies     95\n",
       "Bars        94\n",
       "Snacks      29\n",
       "Crackers    26\n",
       "Name: Category, dtype: int64"
      ]
     },
     "execution_count": 57,
     "metadata": {},
     "output_type": "execute_result"
    }
   ],
   "source": [
    "df.Category.value_counts()"
   ]
  },
  {
   "cell_type": "code",
   "execution_count": 58,
   "id": "4a90e262",
   "metadata": {},
   "outputs": [],
   "source": [
    "#UNSPSC Data prep and filterring\n",
    "selected_family = ['Beverages', 'Prepared and preserved foods', 'Bread and bakery products']\n",
    "\n",
    "filterd_unspsc = unspsc_df[unspsc_df['Family Name'].isin(selected_family)]\n",
    "filterd_unspsc = filterd_unspsc.rename(columns = {'Family Name': 'Category', 'Commodity Name': 'Product'})\n",
    "filterd_unspsc = filterd_unspsc[['Category', 'Product']]\n",
    "filterd_unspsc = filterd_unspsc.reset_index(drop = True)\n",
    "filterd_unspsc['ID'] = ['ID' + str(i).zfill(5) for i in range(1, len(filterd_unspsc)+1)]\n",
    "filterd_unspsc = filterd_unspsc[['ID', 'Category']]"
   ]
  },
  {
   "cell_type": "code",
   "execution_count": 59,
   "id": "096516af",
   "metadata": {},
   "outputs": [],
   "source": [
    "#Region Data prep and filtering\n",
    "region_df = region_df[['Region','City']]\n",
    "region_df['ID'] = ['ID' + str(i).zfill(5) for i in range(200, 200 + len(region_df))]\n",
    "region_df = region_df[['ID','Region','City']]"
   ]
  },
  {
   "cell_type": "code",
   "execution_count": 60,
   "id": "62ef4596",
   "metadata": {},
   "outputs": [
    {
     "name": "stderr",
     "output_type": "stream",
     "text": [
      "C:\\Users\\shashi.kiran\\AppData\\Local\\Temp\\ipykernel_38844\\3571460753.py:1: FutureWarning: The frame.append method is deprecated and will be removed from pandas in a future version. Use pandas.concat instead.\n",
      "  df_final = df.append(filterd_unspsc, ignore_index =True)\n",
      "C:\\Users\\shashi.kiran\\AppData\\Local\\Temp\\ipykernel_38844\\3571460753.py:2: FutureWarning: The frame.append method is deprecated and will be removed from pandas in a future version. Use pandas.concat instead.\n",
      "  df_final = df_final.append(region_df, ignore_index =True)\n"
     ]
    }
   ],
   "source": [
    "df_final = df.append(filterd_unspsc, ignore_index =True)\n",
    "df_final = df_final.append(region_df, ignore_index =True)"
   ]
  },
  {
   "cell_type": "code",
   "execution_count": 61,
   "id": "0368c4d0",
   "metadata": {},
   "outputs": [
    {
     "name": "stderr",
     "output_type": "stream",
     "text": [
      "C:\\Users\\shashi.kiran\\AppData\\Local\\Temp\\ipykernel_38844\\34240211.py:2: FutureWarning: Dropping of nuisance columns in DataFrame reductions (with 'numeric_only=None') is deprecated; in a future version this will raise TypeError.  Select only valid columns before calling the reduction.\n",
      "  df_final_mean = df_final.fillna(df_final.mean()).round(0)\n"
     ]
    }
   ],
   "source": [
    "#adding some random values to the dataset as MRP Data not available\n",
    "df_final_mean = df_final.fillna(df_final.mean()).round(0)\n",
    "\n",
    "df_final_mean['Date'] = df_final_mean['Date'].fillna(df_final_mean['Date'].mode()[0])\n",
    "df_final_mean['Region'] = df_final_mean['Region'].fillna(df_final_mean['Region'].mode()[0])\n",
    "df_final_mean['City'] = df_final_mean['City'].fillna(df_final_mean['City'].mode()[0])\n",
    "df_final_mean['Category'] = df_final_mean['Category'].fillna(df_final_mean['Category'].mode()[0])\n",
    "df_final_mean['Product'] = df_final_mean['Product'].fillna(df_final_mean['Product'].mode()[0])"
   ]
  },
  {
   "cell_type": "code",
   "execution_count": 62,
   "id": "a7b1a2ec",
   "metadata": {},
   "outputs": [
    {
     "data": {
      "text/html": [
       "<div>\n",
       "<style scoped>\n",
       "    .dataframe tbody tr th:only-of-type {\n",
       "        vertical-align: middle;\n",
       "    }\n",
       "\n",
       "    .dataframe tbody tr th {\n",
       "        vertical-align: top;\n",
       "    }\n",
       "\n",
       "    .dataframe thead th {\n",
       "        text-align: right;\n",
       "    }\n",
       "</style>\n",
       "<table border=\"1\" class=\"dataframe\">\n",
       "  <thead>\n",
       "    <tr style=\"text-align: right;\">\n",
       "      <th></th>\n",
       "      <th>ID</th>\n",
       "      <th>Date</th>\n",
       "      <th>Region</th>\n",
       "      <th>City</th>\n",
       "      <th>Category</th>\n",
       "      <th>Product</th>\n",
       "      <th>Qty</th>\n",
       "      <th>UnitPrice</th>\n",
       "      <th>TotalPrice</th>\n",
       "    </tr>\n",
       "  </thead>\n",
       "  <tbody>\n",
       "    <tr>\n",
       "      <th>0</th>\n",
       "      <td>ID07351</td>\n",
       "      <td>1-Jan</td>\n",
       "      <td>East</td>\n",
       "      <td>Boston</td>\n",
       "      <td>Bars</td>\n",
       "      <td>Carrot</td>\n",
       "      <td>33.0</td>\n",
       "      <td>2.0</td>\n",
       "      <td>58.0</td>\n",
       "    </tr>\n",
       "    <tr>\n",
       "      <th>1</th>\n",
       "      <td>ID07352</td>\n",
       "      <td>4-Jan</td>\n",
       "      <td>East</td>\n",
       "      <td>Boston</td>\n",
       "      <td>Crackers</td>\n",
       "      <td>Whole Wheat</td>\n",
       "      <td>87.0</td>\n",
       "      <td>3.0</td>\n",
       "      <td>304.0</td>\n",
       "    </tr>\n",
       "    <tr>\n",
       "      <th>2</th>\n",
       "      <td>ID07353</td>\n",
       "      <td>7-Jan</td>\n",
       "      <td>West</td>\n",
       "      <td>Los Angeles</td>\n",
       "      <td>Cookies</td>\n",
       "      <td>Chocolate Chip</td>\n",
       "      <td>58.0</td>\n",
       "      <td>2.0</td>\n",
       "      <td>108.0</td>\n",
       "    </tr>\n",
       "    <tr>\n",
       "      <th>3</th>\n",
       "      <td>ID07354</td>\n",
       "      <td>10-Jan</td>\n",
       "      <td>East</td>\n",
       "      <td>New York</td>\n",
       "      <td>Cookies</td>\n",
       "      <td>Chocolate Chip</td>\n",
       "      <td>82.0</td>\n",
       "      <td>2.0</td>\n",
       "      <td>153.0</td>\n",
       "    </tr>\n",
       "    <tr>\n",
       "      <th>4</th>\n",
       "      <td>ID07355</td>\n",
       "      <td>13-Jan</td>\n",
       "      <td>East</td>\n",
       "      <td>Boston</td>\n",
       "      <td>Cookies</td>\n",
       "      <td>Arrowroot</td>\n",
       "      <td>38.0</td>\n",
       "      <td>2.0</td>\n",
       "      <td>83.0</td>\n",
       "    </tr>\n",
       "    <tr>\n",
       "      <th>...</th>\n",
       "      <td>...</td>\n",
       "      <td>...</td>\n",
       "      <td>...</td>\n",
       "      <td>...</td>\n",
       "      <td>...</td>\n",
       "      <td>...</td>\n",
       "      <td>...</td>\n",
       "      <td>...</td>\n",
       "      <td>...</td>\n",
       "    </tr>\n",
       "    <tr>\n",
       "      <th>735</th>\n",
       "      <td>ID00526</td>\n",
       "      <td>1-Apr</td>\n",
       "      <td>Northeast</td>\n",
       "      <td>Lynn</td>\n",
       "      <td>Beverages</td>\n",
       "      <td>Carrot</td>\n",
       "      <td>63.0</td>\n",
       "      <td>2.0</td>\n",
       "      <td>137.0</td>\n",
       "    </tr>\n",
       "    <tr>\n",
       "      <th>736</th>\n",
       "      <td>ID00527</td>\n",
       "      <td>1-Apr</td>\n",
       "      <td>Midwest</td>\n",
       "      <td>Carmel</td>\n",
       "      <td>Beverages</td>\n",
       "      <td>Carrot</td>\n",
       "      <td>63.0</td>\n",
       "      <td>2.0</td>\n",
       "      <td>137.0</td>\n",
       "    </tr>\n",
       "    <tr>\n",
       "      <th>737</th>\n",
       "      <td>ID00528</td>\n",
       "      <td>1-Apr</td>\n",
       "      <td>West</td>\n",
       "      <td>Longmont</td>\n",
       "      <td>Beverages</td>\n",
       "      <td>Carrot</td>\n",
       "      <td>63.0</td>\n",
       "      <td>2.0</td>\n",
       "      <td>137.0</td>\n",
       "    </tr>\n",
       "    <tr>\n",
       "      <th>738</th>\n",
       "      <td>ID00529</td>\n",
       "      <td>1-Apr</td>\n",
       "      <td>South</td>\n",
       "      <td>Tuscaloosa</td>\n",
       "      <td>Beverages</td>\n",
       "      <td>Carrot</td>\n",
       "      <td>63.0</td>\n",
       "      <td>2.0</td>\n",
       "      <td>137.0</td>\n",
       "    </tr>\n",
       "    <tr>\n",
       "      <th>739</th>\n",
       "      <td>ID00530</td>\n",
       "      <td>1-Apr</td>\n",
       "      <td>West</td>\n",
       "      <td>Norwalk</td>\n",
       "      <td>Beverages</td>\n",
       "      <td>Carrot</td>\n",
       "      <td>63.0</td>\n",
       "      <td>2.0</td>\n",
       "      <td>137.0</td>\n",
       "    </tr>\n",
       "  </tbody>\n",
       "</table>\n",
       "<p>740 rows × 9 columns</p>\n",
       "</div>"
      ],
      "text/plain": [
       "          ID    Date     Region         City   Category         Product   Qty  \\\n",
       "0    ID07351   1-Jan       East       Boston       Bars          Carrot  33.0   \n",
       "1    ID07352   4-Jan       East       Boston   Crackers     Whole Wheat  87.0   \n",
       "2    ID07353   7-Jan       West  Los Angeles    Cookies  Chocolate Chip  58.0   \n",
       "3    ID07354  10-Jan       East     New York    Cookies  Chocolate Chip  82.0   \n",
       "4    ID07355  13-Jan       East       Boston    Cookies       Arrowroot  38.0   \n",
       "..       ...     ...        ...          ...        ...             ...   ...   \n",
       "735  ID00526   1-Apr  Northeast         Lynn  Beverages          Carrot  63.0   \n",
       "736  ID00527   1-Apr    Midwest       Carmel  Beverages          Carrot  63.0   \n",
       "737  ID00528   1-Apr       West     Longmont  Beverages          Carrot  63.0   \n",
       "738  ID00529   1-Apr      South   Tuscaloosa  Beverages          Carrot  63.0   \n",
       "739  ID00530   1-Apr       West      Norwalk  Beverages          Carrot  63.0   \n",
       "\n",
       "     UnitPrice  TotalPrice  \n",
       "0          2.0        58.0  \n",
       "1          3.0       304.0  \n",
       "2          2.0       108.0  \n",
       "3          2.0       153.0  \n",
       "4          2.0        83.0  \n",
       "..         ...         ...  \n",
       "735        2.0       137.0  \n",
       "736        2.0       137.0  \n",
       "737        2.0       137.0  \n",
       "738        2.0       137.0  \n",
       "739        2.0       137.0  \n",
       "\n",
       "[740 rows x 9 columns]"
      ]
     },
     "execution_count": 62,
     "metadata": {},
     "output_type": "execute_result"
    }
   ],
   "source": [
    "df_final_mean"
   ]
  },
  {
   "cell_type": "code",
   "execution_count": 63,
   "id": "a9241af7",
   "metadata": {},
   "outputs": [],
   "source": [
    "# df_final_mean.to_csv('processed_with_append.csv')"
   ]
  },
  {
   "cell_type": "markdown",
   "id": "1b865ebf",
   "metadata": {},
   "source": [
    "### Meta Data with Constraint Creation"
   ]
  },
  {
   "cell_type": "code",
   "execution_count": 64,
   "id": "c97c0e82",
   "metadata": {},
   "outputs": [],
   "source": [
    "from sdv.metadata import SingleTableMetadata\n",
    "metadata = SingleTableMetadata()\n",
    "metadata.detect_from_dataframe(data=df_final)\n",
    "#metadata.set_primary_key(column_name='ID')\n",
    "constraint = {\n",
    "    'constraint_class': 'FixedCombinations',\n",
    "    'constraint_parameters': {\n",
    "        'column_names': ['Category', 'Product']\n",
    "    }\n",
    "}\n",
    "\n",
    "constraint_1 = {\n",
    "    'constraint_class': 'FixedCombinations',\n",
    "    'constraint_parameters': {\n",
    "        'column_names': ['Region', 'City']\n",
    "    }\n",
    "}\n",
    "\n",
    "# metadata.update_column(\n",
    "#     column_name='ID',\n",
    "#     sdtype='id',\n",
    "#     regex_format='ID[0-9]{5}')\n",
    "\n",
    "# metadata.set_primary_key(column_name='ID')"
   ]
  },
  {
   "cell_type": "markdown",
   "id": "985bfbe6",
   "metadata": {},
   "source": [
    "### GaussianCopulaSynthesizer"
   ]
  },
  {
   "cell_type": "code",
   "execution_count": 65,
   "id": "64ad6bbb",
   "metadata": {},
   "outputs": [
    {
     "name": "stderr",
     "output_type": "stream",
     "text": [
      "Sampling rows: 100%|████████████████████████████████████████████████████████████| 1000/1000 [00:00<00:00, 16612.55it/s]\n"
     ]
    }
   ],
   "source": [
    "from sdv.single_table import GaussianCopulaSynthesizer\n",
    "\n",
    "synthesizer = GaussianCopulaSynthesizer(metadata, default_distribution = 'uniform')\n",
    "synthesizer.add_constraints(constraints=[\n",
    "    constraint\n",
    "])\n",
    "synthesizer.add_constraints(constraints=[\n",
    "    constraint_1\n",
    "])\n",
    "synthesizer.fit(df_final_mean)\n",
    "synthetic_data = synthesizer.sample(num_rows=1000)"
   ]
  },
  {
   "cell_type": "code",
   "execution_count": 66,
   "id": "d7ca1fb4",
   "metadata": {},
   "outputs": [
    {
     "name": "stderr",
     "output_type": "stream",
     "text": [
      "C:\\Users\\shashi.kiran\\Anaconda3\\lib\\site-packages\\xarray\\core\\pycompat.py:22: DeprecationWarning: distutils Version classes are deprecated. Use packaging.version instead.\n",
      "  duck_array_version = LooseVersion(duck_array_module.__version__)\n",
      "C:\\Users\\shashi.kiran\\Anaconda3\\lib\\site-packages\\xarray\\core\\pycompat.py:37: DeprecationWarning: distutils Version classes are deprecated. Use packaging.version instead.\n",
      "  duck_array_version = LooseVersion(\"0.0.0\")\n",
      "C:\\Users\\shashi.kiran\\Anaconda3\\lib\\site-packages\\setuptools\\_distutils\\version.py:351: DeprecationWarning: distutils Version classes are deprecated. Use packaging.version instead.\n",
      "  other = LooseVersion(other)\n",
      "C:\\Users\\shashi.kiran\\Anaconda3\\lib\\site-packages\\xarray\\core\\npcompat.py:82: DeprecationWarning: distutils Version classes are deprecated. Use packaging.version instead.\n",
      "  if LooseVersion(np.__version__) >= \"1.20.0\":\n",
      "C:\\Users\\shashi.kiran\\Anaconda3\\lib\\site-packages\\xarray\\core\\pdcompat.py:45: DeprecationWarning: distutils Version classes are deprecated. Use packaging.version instead.\n",
      "  if LooseVersion(pd.__version__) < \"0.25.0\":\n",
      "Creating report: 100%|███████████████████████████████████████████████████████████████████| 4/4 [00:01<00:00,  2.67it/s]\n"
     ]
    },
    {
     "name": "stdout",
     "output_type": "stream",
     "text": [
      "\n",
      "Overall Quality Score: 40.82%\n",
      "\n",
      "Properties:\n",
      "Column Shapes: 64.39%\n",
      "Column Pair Trends: 17.25%\n"
     ]
    }
   ],
   "source": [
    "from sdv.evaluation.single_table import evaluate_quality\n",
    "\n",
    "quality_report = evaluate_quality(\n",
    "    real_data=df_final,\n",
    "    synthetic_data=synthetic_data,\n",
    "    metadata=metadata)"
   ]
  },
  {
   "cell_type": "code",
   "execution_count": 67,
   "id": "200e4bba",
   "metadata": {},
   "outputs": [],
   "source": [
    "# synthetic_data.to_csv('processed_with_append.csv')"
   ]
  },
  {
   "cell_type": "markdown",
   "id": "f86081fe",
   "metadata": {},
   "source": [
    "### CTGANSynthesizer"
   ]
  },
  {
   "cell_type": "code",
   "execution_count": 73,
   "id": "7ff693e2",
   "metadata": {},
   "outputs": [
    {
     "name": "stderr",
     "output_type": "stream",
     "text": [
      "Sampling rows: 100%|█████████████████████████████████████████████████████████████| 1000/1000 [00:00<00:00, 3935.51it/s]\n"
     ]
    }
   ],
   "source": [
    "from sdv.single_table import CTGANSynthesizer\n",
    "synthesizer = CTGANSynthesizer(metadata)\n",
    "synthesizer.add_constraints(constraints=[\n",
    "    constraint\n",
    "])\n",
    "synthesizer.add_constraints(constraints=[\n",
    "    constraint_1\n",
    "])\n",
    "synthesizer.fit(df_final_mean)\n",
    "synthetic_data = synthesizer.sample(num_rows=1000)"
   ]
  },
  {
   "cell_type": "code",
   "execution_count": 74,
   "id": "48b21c6f",
   "metadata": {},
   "outputs": [
    {
     "name": "stderr",
     "output_type": "stream",
     "text": [
      "Creating report: 100%|███████████████████████████████████████████████████████████████████| 4/4 [00:01<00:00,  2.19it/s]\n"
     ]
    },
    {
     "name": "stdout",
     "output_type": "stream",
     "text": [
      "\n",
      "Overall Quality Score: 42.48%\n",
      "\n",
      "Properties:\n",
      "Column Shapes: 62.67%\n",
      "Column Pair Trends: 22.3%\n"
     ]
    }
   ],
   "source": [
    "from sdv.evaluation.single_table import evaluate_quality\n",
    "\n",
    "quality_report = evaluate_quality(\n",
    "    real_data=df_final,\n",
    "    synthetic_data=synthetic_data,\n",
    "    metadata=metadata)"
   ]
  },
  {
   "cell_type": "markdown",
   "id": "d4c72a7e",
   "metadata": {},
   "source": [
    "### CopulaGANSynthesizer"
   ]
  },
  {
   "cell_type": "code",
   "execution_count": 75,
   "id": "ef41d7af",
   "metadata": {},
   "outputs": [
    {
     "name": "stderr",
     "output_type": "stream",
     "text": [
      "Sampling rows: 100%|█████████████████████████████████████████████████████████████| 1000/1000 [00:00<00:00, 3752.55it/s]\n"
     ]
    }
   ],
   "source": [
    "from sdv.single_table import CopulaGANSynthesizer\n",
    "synthesizer = CopulaGANSynthesizer(metadata)\n",
    "synthesizer.add_constraints(constraints=[\n",
    "    constraint\n",
    "])\n",
    "synthesizer.add_constraints(constraints=[\n",
    "    constraint_1\n",
    "])\n",
    "synthesizer.fit(df_final_mean)\n",
    "synthetic_data = synthesizer.sample(num_rows=1000)"
   ]
  },
  {
   "cell_type": "code",
   "execution_count": 76,
   "id": "37f68ad9",
   "metadata": {},
   "outputs": [
    {
     "name": "stderr",
     "output_type": "stream",
     "text": [
      "Creating report: 100%|███████████████████████████████████████████████████████████████████| 4/4 [00:01<00:00,  2.41it/s]\n"
     ]
    },
    {
     "name": "stdout",
     "output_type": "stream",
     "text": [
      "\n",
      "Overall Quality Score: 41.62%\n",
      "\n",
      "Properties:\n",
      "Column Shapes: 61.96%\n",
      "Column Pair Trends: 21.29%\n"
     ]
    }
   ],
   "source": [
    "from sdv.evaluation.single_table import evaluate_quality\n",
    "\n",
    "quality_report = evaluate_quality(\n",
    "    real_data=df_final,\n",
    "    synthetic_data=synthetic_data,\n",
    "    metadata=metadata)"
   ]
  },
  {
   "cell_type": "markdown",
   "id": "fb713c29",
   "metadata": {},
   "source": [
    "### TVAESynthesizer"
   ]
  },
  {
   "cell_type": "code",
   "execution_count": 77,
   "id": "b07eccc8",
   "metadata": {},
   "outputs": [
    {
     "name": "stderr",
     "output_type": "stream",
     "text": [
      "Sampling rows: 100%|█████████████████████████████████████████████████████████████| 1000/1000 [00:00<00:00, 9862.17it/s]\n"
     ]
    }
   ],
   "source": [
    "from sdv.single_table import TVAESynthesizer\n",
    "synthesizer = TVAESynthesizer(metadata)\n",
    "synthesizer.add_constraints(constraints=[\n",
    "    constraint\n",
    "])\n",
    "synthesizer.add_constraints(constraints=[\n",
    "    constraint_1\n",
    "])\n",
    "synthesizer.fit(df_final_mean)\n",
    "synthetic_data = synthesizer.sample(num_rows=1000)"
   ]
  },
  {
   "cell_type": "code",
   "execution_count": 78,
   "id": "47e35069",
   "metadata": {},
   "outputs": [
    {
     "name": "stderr",
     "output_type": "stream",
     "text": [
      "Creating report:   0%|                                                                           | 0/4 [00:00<?, ?it/s]C:\\Users\\shashi.kiran\\Anaconda3\\lib\\site-packages\\sdmetrics\\column_pairs\\statistical\\correlation_similarity.py:78: ConstantInputWarning: The synthetic data in column 'UnitPrice' contains a constant value. Correlation is undefined for constant data.\n",
      "  warnings.warn(ConstantInputWarning(msg))\n",
      "C:\\Users\\shashi.kiran\\Anaconda3\\lib\\site-packages\\sdmetrics\\column_pairs\\statistical\\correlation_similarity.py:78: ConstantInputWarning: The synthetic data in column 'UnitPrice' contains a constant value. Correlation is undefined for constant data.\n",
      "  warnings.warn(ConstantInputWarning(msg))\n",
      "Creating report: 100%|███████████████████████████████████████████████████████████████████| 4/4 [00:03<00:00,  1.27it/s]\n"
     ]
    },
    {
     "name": "stdout",
     "output_type": "stream",
     "text": [
      "\n",
      "Overall Quality Score: 19.76%\n",
      "\n",
      "Properties:\n",
      "Column Shapes: 31.57%\n",
      "Column Pair Trends: 7.95%\n"
     ]
    }
   ],
   "source": [
    "from sdv.evaluation.single_table import evaluate_quality\n",
    "\n",
    "quality_report = evaluate_quality(\n",
    "    real_data=df_final,\n",
    "    synthetic_data=synthetic_data,\n",
    "    metadata=metadata)"
   ]
  },
  {
   "cell_type": "markdown",
   "id": "46a8de5a",
   "metadata": {},
   "source": [
    "### Gretal AI"
   ]
  },
  {
   "cell_type": "code",
   "execution_count": null,
   "id": "8a851d52",
   "metadata": {},
   "outputs": [],
   "source": []
  }
 ],
 "metadata": {
  "kernelspec": {
   "display_name": "Python 3 (ipykernel)",
   "language": "python",
   "name": "python3"
  },
  "language_info": {
   "codemirror_mode": {
    "name": "ipython",
    "version": 3
   },
   "file_extension": ".py",
   "mimetype": "text/x-python",
   "name": "python",
   "nbconvert_exporter": "python",
   "pygments_lexer": "ipython3",
   "version": "3.9.12"
  }
 },
 "nbformat": 4,
 "nbformat_minor": 5
}
